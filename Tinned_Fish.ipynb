{
 "cells": [
  {
   "cell_type": "code",
   "execution_count": 11,
   "id": "c1529fdc-3440-433c-998b-720850a92b5f",
   "metadata": {},
   "outputs": [],
   "source": [
    "import pandas as pd"
   ]
  },
  {
   "cell_type": "code",
   "execution_count": 12,
   "id": "a254d62b-9352-4769-a22c-ddf434802856",
   "metadata": {
    "scrolled": true
   },
   "outputs": [
    {
     "data": {
      "text/plain": [
       "Type of Fish\n",
       "Sardines                             225\n",
       "Mackerel                              71\n",
       "Mussels                               54\n",
       "Anchovy                               45\n",
       "Tuna, Albacore (Bonito del Norte)     44\n",
       "Tuna, Yellowfin                       34\n",
       "Squid                                 27\n",
       "Tuna, Skipjack                        26\n",
       "Sprats                                25\n",
       "Octopus                               21\n",
       "Cockles                               18\n",
       "Herring                               18\n",
       "Salmon                                14\n",
       "Clam, Razor                           13\n",
       "Tuna, Bluefin                          9\n",
       "Cod                                    9\n",
       "Eel                                    9\n",
       "Trout                                  8\n",
       "Scallop                                8\n",
       "Garfish                                7\n",
       "Anchovies                              7\n",
       "Dace                                   6\n",
       "Hake                                   6\n",
       "King Crab                              6\n",
       "Tuna, Bigeye                           5\n",
       "Name: count, dtype: int64"
      ]
     },
     "execution_count": 12,
     "metadata": {},
     "output_type": "execute_result"
    }
   ],
   "source": [
    "# Rainbow Tomatoes Garden(RTG)'s product dataset\n",
    "\n",
    "df = pd.read_csv('Rainbow Tomatoes Garden Fish List.csv')\n",
    "\n",
    "df['Type of Fish'].value_counts(ascending=False).head(25)"
   ]
  },
  {
   "cell_type": "code",
   "execution_count": 83,
   "id": "fb11f852-7bb4-49ec-9273-900446d723b1",
   "metadata": {},
   "outputs": [
    {
     "data": {
      "text/plain": [
       "27"
      ]
     },
     "execution_count": 83,
     "metadata": {},
     "output_type": "execute_result"
    }
   ],
   "source": [
    "df['Country Origin'].nunique()"
   ]
  },
  {
   "cell_type": "code",
   "execution_count": 87,
   "id": "cf8dbe83-3753-4bb6-9f71-b060e183056b",
   "metadata": {},
   "outputs": [
    {
     "data": {
      "text/plain": [
       "Country Origin\n",
       "Spain                 387\n",
       "Portugal              120\n",
       "France                109\n",
       "Italy                  34\n",
       "USA                    24\n",
       "Poland                 20\n",
       "Germany                17\n",
       "Japan                  14\n",
       "Latvia                 12\n",
       "Scotland                8\n",
       "Denmark                 8\n",
       "Morocco                 7\n",
       "Taiwan                  6\n",
       "China                   6\n",
       "Chile                   5\n",
       "Norway                  5\n",
       "Cape Verde              5\n",
       "Greece                  5\n",
       "El Salvador             4\n",
       "Armenia                 3\n",
       "Korea                   3\n",
       "Canada                  3\n",
       "?                       1\n",
       "Poland and Germany      1\n",
       "Peru                    1\n",
       "Russia                  1\n",
       "Spain                   1\n",
       "Name: count, dtype: int64"
      ]
     },
     "execution_count": 87,
     "metadata": {},
     "output_type": "execute_result"
    }
   ],
   "source": [
    "df['Country Origin'].value_counts()"
   ]
  },
  {
   "cell_type": "code",
   "execution_count": 13,
   "id": "2a0fb7d0-94c8-4952-b789-7f936c96a06f",
   "metadata": {
    "scrolled": true
   },
   "outputs": [
    {
     "data": {
      "text/plain": [
       "(810, 30)"
      ]
     },
     "execution_count": 13,
     "metadata": {},
     "output_type": "execute_result"
    }
   ],
   "source": [
    "df.shape"
   ]
  },
  {
   "cell_type": "markdown",
   "id": "3c3b04da-0a83-41ee-a829-74d3de34325f",
   "metadata": {},
   "source": [
    "## Different fish and their origins (median price, oil used, median can size)"
   ]
  },
  {
   "cell_type": "markdown",
   "id": "bb45e9c4-aaa9-4090-9b9d-119b4599b440",
   "metadata": {},
   "source": [
    "### 🐟 🐟 Sardine 🐟 🐟 "
   ]
  },
  {
   "cell_type": "code",
   "execution_count": 14,
   "id": "1b79b9f6-76a3-4224-a12d-1348624a0ff3",
   "metadata": {
    "scrolled": true
   },
   "outputs": [],
   "source": [
    "sardine = df[df['Type of Fish'].isin(['Sardines', 'Sardine'])]"
   ]
  },
  {
   "cell_type": "code",
   "execution_count": 15,
   "id": "e77fff81-b8dd-4dbe-a982-dee48ba691bf",
   "metadata": {},
   "outputs": [
    {
     "data": {
      "text/plain": [
       "Country Origin\n",
       "Portugal    73\n",
       "France      66\n",
       "Spain       66\n",
       "Italy        8\n",
       "Morocco      7\n",
       "Japan        3\n",
       "Greece       3\n",
       "Spain        1\n",
       "Name: count, dtype: int64"
      ]
     },
     "execution_count": 15,
     "metadata": {},
     "output_type": "execute_result"
    }
   ],
   "source": [
    "sardine['Country Origin'].value_counts()"
   ]
  },
  {
   "cell_type": "markdown",
   "id": "6367c161-247c-4b6f-b1fd-a63732dbe4d0",
   "metadata": {},
   "source": [
    "### 🇵🇹"
   ]
  },
  {
   "cell_type": "code",
   "execution_count": 16,
   "id": "f69a1a46-1ea4-46fa-8a51-d4b40e50a6cc",
   "metadata": {},
   "outputs": [
    {
     "data": {
      "text/plain": [
       "8.0"
      ]
     },
     "execution_count": 16,
     "metadata": {},
     "output_type": "execute_result"
    }
   ],
   "source": [
    "Portugal = sardine[sardine['Country Origin'] == 'Portugal']\n",
    "Portugal['RTG $'].astype(float).median()"
   ]
  },
  {
   "cell_type": "code",
   "execution_count": 17,
   "id": "0d48c327-432a-4f83-91bb-0d94b81ccd1c",
   "metadata": {},
   "outputs": [
    {
     "data": {
      "text/plain": [
       "Oil/Water Used\n",
       "Olive Oil                          50\n",
       "Extra Virgin Olive Oil              8\n",
       "Sunflower                           4\n",
       "Extra Virgin Olive Oil, Organic     4\n",
       "Sunflower Oil                       4\n",
       "Olive OIl                           1\n",
       "Olive Oli                           1\n",
       "Name: count, dtype: int64"
      ]
     },
     "execution_count": 17,
     "metadata": {},
     "output_type": "execute_result"
    }
   ],
   "source": [
    "Portugal['Oil/Water Used'].value_counts()"
   ]
  },
  {
   "cell_type": "markdown",
   "id": "1b3c55a8-025e-46b0-953b-cf95ffd80196",
   "metadata": {},
   "source": [
    "**Q: Portugal's canned sardine is the cheapest because it mainly uses non-extra virgin olive oil?**"
   ]
  },
  {
   "cell_type": "code",
   "execution_count": 18,
   "id": "516d7818-5d09-4bdd-b717-fb73915eac2d",
   "metadata": {},
   "outputs": [
    {
     "data": {
      "text/plain": [
       "4.2"
      ]
     },
     "execution_count": 18,
     "metadata": {},
     "output_type": "execute_result"
    }
   ],
   "source": [
    "Portugal['Tin Size (in oz unless otherwise noted)'].median()"
   ]
  },
  {
   "cell_type": "markdown",
   "id": "0dc84d89-2ac7-4bea-a8e7-e082f905ea65",
   "metadata": {},
   "source": [
    "**Portugal = cheap, big portion, bad oil**"
   ]
  },
  {
   "cell_type": "markdown",
   "id": "051df47b-ec42-4273-a2c9-439107f38107",
   "metadata": {},
   "source": [
    "### 🇫🇷"
   ]
  },
  {
   "cell_type": "code",
   "execution_count": 19,
   "id": "21f59e2f-737e-44b4-973b-d2a3d8f9bcdf",
   "metadata": {},
   "outputs": [
    {
     "data": {
      "text/plain": [
       "10.5"
      ]
     },
     "execution_count": 19,
     "metadata": {},
     "output_type": "execute_result"
    }
   ],
   "source": [
    "France = sardine[sardine['Country Origin'] == 'France']\n",
    "France['RTG $'].astype(float).median()"
   ]
  },
  {
   "cell_type": "code",
   "execution_count": 20,
   "id": "819d7d89-141a-4c00-bd4a-f9ded2aff621",
   "metadata": {},
   "outputs": [
    {
     "data": {
      "text/plain": [
       "Oil/Water Used\n",
       "Extra Virgin Olive Oil                                     35\n",
       "Extra Virgin Olive Oil, Organic                            10\n",
       "Sunflower Oil                                               5\n",
       "Butter                                                      5\n",
       "Sunflower, Extra Virgin Olive Oil                           3\n",
       "Olive Oil                                                   2\n",
       "Grapeseed Oil                                               2\n",
       "Extra Virgin Olive Oil, Sunflower Oil                       1\n",
       "Extra Virgin Olive Oil, Organic; Sunflower Oil, Organic     1\n",
       "Peanut Oil                                                  1\n",
       "Extra Virgin Olive OIl                                      1\n",
       "Name: count, dtype: int64"
      ]
     },
     "execution_count": 20,
     "metadata": {},
     "output_type": "execute_result"
    }
   ],
   "source": [
    "France['Oil/Water Used'].value_counts()"
   ]
  },
  {
   "cell_type": "code",
   "execution_count": 21,
   "id": "ff8fa29d-0718-47c0-9197-05739f32a330",
   "metadata": {},
   "outputs": [
    {
     "data": {
      "text/plain": [
       "4.0"
      ]
     },
     "execution_count": 21,
     "metadata": {},
     "output_type": "execute_result"
    }
   ],
   "source": [
    "France['Tin Size (in oz unless otherwise noted)'].median()"
   ]
  },
  {
   "cell_type": "markdown",
   "id": "0e37ae95-f11f-45d8-ab48-63ed415d06e2",
   "metadata": {},
   "source": [
    "**France = expensive, smaller portion, great oil**"
   ]
  },
  {
   "cell_type": "markdown",
   "id": "b39d0e10-15c8-4de6-9b2c-b326a3f12be1",
   "metadata": {},
   "source": [
    "### 🇪🇸"
   ]
  },
  {
   "cell_type": "code",
   "execution_count": 22,
   "id": "67f457df-d811-4725-8cca-df912532c9cb",
   "metadata": {},
   "outputs": [
    {
     "data": {
      "text/plain": [
       "11.0"
      ]
     },
     "execution_count": 22,
     "metadata": {},
     "output_type": "execute_result"
    }
   ],
   "source": [
    "Spain = sardine[sardine['Country Origin'] == 'Spain']\n",
    "Spain['RTG $'].astype(float).median()"
   ]
  },
  {
   "cell_type": "code",
   "execution_count": 23,
   "id": "e3bd821d-38cc-4d02-afad-a7b4b4583320",
   "metadata": {},
   "outputs": [
    {
     "data": {
      "text/plain": [
       "Oil/Water Used\n",
       "Olive Oil                          51\n",
       "Extra Virgin Olive Oil              6\n",
       "Sunflower Oil                       4\n",
       "Extra Virgin Olive Oil, Organic     2\n",
       "Olive OIl                           2\n",
       "Vegetable Oil                       1\n",
       "Name: count, dtype: int64"
      ]
     },
     "execution_count": 23,
     "metadata": {},
     "output_type": "execute_result"
    }
   ],
   "source": [
    "Spain['Oil/Water Used'].value_counts()"
   ]
  },
  {
   "cell_type": "code",
   "execution_count": 24,
   "id": "c37f2372-2db0-4a0f-8a63-08dac7631eeb",
   "metadata": {},
   "outputs": [
    {
     "data": {
      "text/plain": [
       "4.2"
      ]
     },
     "execution_count": 24,
     "metadata": {},
     "output_type": "execute_result"
    }
   ],
   "source": [
    "Spain['Tin Size (in oz unless otherwise noted)'].median()"
   ]
  },
  {
   "cell_type": "markdown",
   "id": "de0e097f-e22e-40e3-8c5f-2a81ed449c7b",
   "metadata": {},
   "source": [
    "**Spain = most expensive, same portion as Portugal, bad oil... not worth!**"
   ]
  },
  {
   "cell_type": "markdown",
   "id": "98c00ebf-9bd5-4c0f-8440-244f3fe60979",
   "metadata": {},
   "source": [
    "### 🐟 🐟 Mackerel 🐟 🐟"
   ]
  },
  {
   "cell_type": "code",
   "execution_count": 25,
   "id": "d331f16b-b422-427c-8180-dd1adac63393",
   "metadata": {},
   "outputs": [],
   "source": [
    "mackerel = df[df['Type of Fish'] == 'Mackerel']"
   ]
  },
  {
   "cell_type": "code",
   "execution_count": 26,
   "id": "09b19460-8a16-46cd-8690-8b8c2279d98d",
   "metadata": {},
   "outputs": [
    {
     "data": {
      "text/plain": [
       "Country Origin\n",
       "Portugal      18\n",
       "Spain         16\n",
       "France        14\n",
       "Scotland       6\n",
       "Japan          5\n",
       "Poland         4\n",
       "Norway         3\n",
       "Italy          2\n",
       "Cape Verde     1\n",
       "USA            1\n",
       "Germany        1\n",
       "Name: count, dtype: int64"
      ]
     },
     "execution_count": 26,
     "metadata": {},
     "output_type": "execute_result"
    }
   ],
   "source": [
    "mackerel['Country Origin'].value_counts()"
   ]
  },
  {
   "cell_type": "markdown",
   "id": "1b4131e5-6309-4010-b6db-a7cfe794bac3",
   "metadata": {},
   "source": [
    "### 🇵🇹"
   ]
  },
  {
   "cell_type": "code",
   "execution_count": 27,
   "id": "170c4c89-0372-4394-9b1c-ce43d9bfd91f",
   "metadata": {},
   "outputs": [
    {
     "data": {
      "text/plain": [
       "9.5"
      ]
     },
     "execution_count": 27,
     "metadata": {},
     "output_type": "execute_result"
    }
   ],
   "source": [
    "Portugal = mackerel[mackerel['Country Origin'] == 'Portugal']\n",
    "Portugal['RTG $'].astype(float).median()"
   ]
  },
  {
   "cell_type": "code",
   "execution_count": 28,
   "id": "09cb6a50-9337-423e-9ed9-94c80a992302",
   "metadata": {},
   "outputs": [
    {
     "data": {
      "text/plain": [
       "Oil/Water Used\n",
       "Olive Oil                          13\n",
       "Extra Virgin Olive Oil, Organic     3\n",
       "Rapeseed Oil                        1\n",
       "Extra Virgin Olive Oil              1\n",
       "Name: count, dtype: int64"
      ]
     },
     "execution_count": 28,
     "metadata": {},
     "output_type": "execute_result"
    }
   ],
   "source": [
    "Portugal['Oil/Water Used'].value_counts()"
   ]
  },
  {
   "cell_type": "code",
   "execution_count": 29,
   "id": "a0c79d06-ba62-4314-abcb-716a48ed4e87",
   "metadata": {},
   "outputs": [
    {
     "data": {
      "text/plain": [
       "4.2"
      ]
     },
     "execution_count": 29,
     "metadata": {},
     "output_type": "execute_result"
    }
   ],
   "source": [
    "Portugal['Tin Size (in oz unless otherwise noted)'].astype(float).median()"
   ]
  },
  {
   "cell_type": "markdown",
   "id": "64965c1c-88c4-46ad-b1fb-12128195d524",
   "metadata": {},
   "source": [
    "### 🇪🇸"
   ]
  },
  {
   "cell_type": "code",
   "execution_count": 30,
   "id": "fa5eae1d-9882-44c3-b987-50f8e67f368d",
   "metadata": {},
   "outputs": [
    {
     "data": {
      "text/plain": [
       "9.75"
      ]
     },
     "execution_count": 30,
     "metadata": {},
     "output_type": "execute_result"
    }
   ],
   "source": [
    "Spain = mackerel[mackerel['Country Origin'] == 'Spain']\n",
    "Spain['RTG $'].astype(float).median()"
   ]
  },
  {
   "cell_type": "code",
   "execution_count": 31,
   "id": "687509f0-6f23-4eeb-862f-53e0e9a61d3a",
   "metadata": {},
   "outputs": [
    {
     "data": {
      "text/plain": [
       "Oil/Water Used\n",
       "Olive Oil                          9\n",
       "Extra Virgin Olive Oil, Organic    5\n",
       "Sunflower Oil                      2\n",
       "Name: count, dtype: int64"
      ]
     },
     "execution_count": 31,
     "metadata": {},
     "output_type": "execute_result"
    }
   ],
   "source": [
    "Spain['Oil/Water Used'].value_counts()"
   ]
  },
  {
   "cell_type": "code",
   "execution_count": 32,
   "id": "0f3949af-b4af-426a-8438-7a1c04efb043",
   "metadata": {},
   "outputs": [
    {
     "data": {
      "text/plain": [
       "4.1"
      ]
     },
     "execution_count": 32,
     "metadata": {},
     "output_type": "execute_result"
    }
   ],
   "source": [
    "Spain['Tin Size (in oz unless otherwise noted)'].astype(float).median()"
   ]
  },
  {
   "cell_type": "markdown",
   "id": "f048e1a5-cb4d-47cd-9197-14973770b45f",
   "metadata": {},
   "source": [
    "### 🇫🇷"
   ]
  },
  {
   "cell_type": "code",
   "execution_count": 33,
   "id": "bb4b72e8-8d9b-4ba9-acfe-e00a2c81aa0d",
   "metadata": {},
   "outputs": [
    {
     "data": {
      "text/plain": [
       "9.0"
      ]
     },
     "execution_count": 33,
     "metadata": {},
     "output_type": "execute_result"
    }
   ],
   "source": [
    "France = mackerel[mackerel['Country Origin'] == 'France']\n",
    "France['RTG $'].astype(float).median()"
   ]
  },
  {
   "cell_type": "code",
   "execution_count": 34,
   "id": "98e22e4e-6d98-40a5-8bfa-a376d516553d",
   "metadata": {},
   "outputs": [
    {
     "data": {
      "text/plain": [
       "Oil/Water Used\n",
       "Sunflower Oil                      5\n",
       "Extra Virgin Olive Oil             4\n",
       "Water                              2\n",
       "Extra Virgin Olive Oil, Organic    1\n",
       "Water, Cream                       1\n",
       "Name: count, dtype: int64"
      ]
     },
     "execution_count": 34,
     "metadata": {},
     "output_type": "execute_result"
    }
   ],
   "source": [
    "France['Oil/Water Used'].value_counts()"
   ]
  },
  {
   "cell_type": "code",
   "execution_count": 35,
   "id": "c7e8d2a5-3dc1-4065-a86e-e0831a763a65",
   "metadata": {},
   "outputs": [
    {
     "data": {
      "text/plain": [
       "5.359999999999999"
      ]
     },
     "execution_count": 35,
     "metadata": {},
     "output_type": "execute_result"
    }
   ],
   "source": [
    "France['Tin Size (in oz unless otherwise noted)'].median()"
   ]
  },
  {
   "cell_type": "markdown",
   "id": "46513f93-e432-49aa-a001-33db2b47c84f",
   "metadata": {},
   "source": [
    "### 🐟 🐟 Anchovy 🐟 🐟"
   ]
  },
  {
   "cell_type": "code",
   "execution_count": 36,
   "id": "26e788ab-31b7-4188-9c55-140d63cc0abf",
   "metadata": {},
   "outputs": [],
   "source": [
    "anchovy = df[df['Type of Fish'].isin(['Anchovy', 'Anchovies'])]"
   ]
  },
  {
   "cell_type": "code",
   "execution_count": 37,
   "id": "b44efcd5-45a7-435d-81e7-fa2327063655",
   "metadata": {},
   "outputs": [
    {
     "data": {
      "text/plain": [
       "Country Origin\n",
       "Spain     36\n",
       "Italy      8\n",
       "France     4\n",
       "Korea      2\n",
       "Peru       1\n",
       "Greece     1\n",
       "Name: count, dtype: int64"
      ]
     },
     "execution_count": 37,
     "metadata": {},
     "output_type": "execute_result"
    }
   ],
   "source": [
    "anchovy['Country Origin'].value_counts()"
   ]
  },
  {
   "cell_type": "markdown",
   "id": "c6d70595-293c-4dfc-bcc8-619bf687e6cd",
   "metadata": {},
   "source": [
    "### 🇪🇸"
   ]
  },
  {
   "cell_type": "code",
   "execution_count": 38,
   "id": "8ea78346-27f3-4e13-84c6-2d75b013f8aa",
   "metadata": {},
   "outputs": [
    {
     "data": {
      "text/plain": [
       "21.0"
      ]
     },
     "execution_count": 38,
     "metadata": {},
     "output_type": "execute_result"
    }
   ],
   "source": [
    "Spain = anchovy[anchovy['Country Origin'] == 'Spain']\n",
    "Spain['RTG $'].astype(float).median()"
   ]
  },
  {
   "cell_type": "code",
   "execution_count": 39,
   "id": "1a501e94-6f80-4771-b0c9-49e56ca56c40",
   "metadata": {},
   "outputs": [
    {
     "data": {
      "text/plain": [
       "Oil/Water Used\n",
       "Olive Oil                          13\n",
       "Extra Virgin Olive Oil             11\n",
       "Sunflower Oil                       8\n",
       "Extra Virgin Olive Oil, Organic     2\n",
       "Anchovy Extract                     1\n",
       "Name: count, dtype: int64"
      ]
     },
     "execution_count": 39,
     "metadata": {},
     "output_type": "execute_result"
    }
   ],
   "source": [
    "Spain['Oil/Water Used'].value_counts()"
   ]
  },
  {
   "cell_type": "code",
   "execution_count": 40,
   "id": "280e7524-a28e-4b0f-ba65-734f56cd3acc",
   "metadata": {},
   "outputs": [
    {
     "data": {
      "text/plain": [
       "3.5"
      ]
     },
     "execution_count": 40,
     "metadata": {},
     "output_type": "execute_result"
    }
   ],
   "source": [
    "Spain['Tin Size (in oz unless otherwise noted)'].median()"
   ]
  },
  {
   "cell_type": "markdown",
   "id": "08ac4ca2-f12f-4561-b495-f5cb6f765d96",
   "metadata": {},
   "source": [
    "### 🇮🇹"
   ]
  },
  {
   "cell_type": "code",
   "execution_count": 41,
   "id": "376b7491-e1d5-46d6-a97a-69f2fd033d7e",
   "metadata": {},
   "outputs": [
    {
     "data": {
      "text/plain": [
       "10.75"
      ]
     },
     "execution_count": 41,
     "metadata": {},
     "output_type": "execute_result"
    }
   ],
   "source": [
    "Italy = anchovy[anchovy['Country Origin'] == 'Italy']\n",
    "Italy['RTG $'].astype(float).median()"
   ]
  },
  {
   "cell_type": "code",
   "execution_count": 42,
   "id": "fd595ca0-005f-4b69-8e9d-6db94d82716f",
   "metadata": {},
   "outputs": [
    {
     "data": {
      "text/plain": [
       "Oil/Water Used\n",
       "Olive Oil                 6\n",
       "Extra Virgin Olive Oil    2\n",
       "Name: count, dtype: int64"
      ]
     },
     "execution_count": 42,
     "metadata": {},
     "output_type": "execute_result"
    }
   ],
   "source": [
    "Italy['Oil/Water Used'].value_counts()"
   ]
  },
  {
   "cell_type": "code",
   "execution_count": 43,
   "id": "ee255ec8-2604-4c91-a1fb-4ca8ce3b369a",
   "metadata": {},
   "outputs": [
    {
     "data": {
      "text/plain": [
       "3.17"
      ]
     },
     "execution_count": 43,
     "metadata": {},
     "output_type": "execute_result"
    }
   ],
   "source": [
    "Italy['Tin Size (in oz unless otherwise noted)'].median()"
   ]
  },
  {
   "cell_type": "markdown",
   "id": "da8920d5-37ae-45fd-b5a9-c24cbbdfc050",
   "metadata": {},
   "source": [
    "**Italy's anchovies are half the price of Spain's!**"
   ]
  },
  {
   "cell_type": "markdown",
   "id": "8a6db621-1fba-45f5-84b3-2c84bc688c7a",
   "metadata": {},
   "source": [
    "### 🇫🇷"
   ]
  },
  {
   "cell_type": "code",
   "execution_count": 44,
   "id": "979f2295-35eb-4b20-a201-aa1b3ce7fee8",
   "metadata": {},
   "outputs": [
    {
     "data": {
      "text/plain": [
       "8.75"
      ]
     },
     "execution_count": 44,
     "metadata": {},
     "output_type": "execute_result"
    }
   ],
   "source": [
    "France = anchovy[anchovy['Country Origin'] == 'France']\n",
    "France['RTG $'].astype(float).median()"
   ]
  },
  {
   "cell_type": "code",
   "execution_count": 45,
   "id": "9162a490-94cc-44e2-aaef-6210bc817a8c",
   "metadata": {},
   "outputs": [
    {
     "data": {
      "text/plain": [
       "Oil/Water Used\n",
       "Extra Virgin Olive Oil, Organic    2\n",
       "Olive Oil                          1\n",
       "Extra Virgin Olive Oil             1\n",
       "Name: count, dtype: int64"
      ]
     },
     "execution_count": 45,
     "metadata": {},
     "output_type": "execute_result"
    }
   ],
   "source": [
    "France['Oil/Water Used'].value_counts()"
   ]
  },
  {
   "cell_type": "code",
   "execution_count": 46,
   "id": "844f1196-5c40-4483-b9e8-78db71995fbb",
   "metadata": {},
   "outputs": [
    {
     "data": {
      "text/plain": [
       "2.98"
      ]
     },
     "execution_count": 46,
     "metadata": {},
     "output_type": "execute_result"
    }
   ],
   "source": [
    "France['Tin Size (in oz unless otherwise noted)'].median()"
   ]
  },
  {
   "cell_type": "markdown",
   "id": "1256ff31-e27c-4a8b-9ab3-58bb3b608e6e",
   "metadata": {},
   "source": [
    "**French fish is more likely to be soaked in extra virgin olive oil!**"
   ]
  },
  {
   "cell_type": "markdown",
   "id": "ea4a11ff-14b8-4001-9a5c-68554c4b52a7",
   "metadata": {},
   "source": [
    "### 🐟 🐟 Salmon 🐟 🐟"
   ]
  },
  {
   "cell_type": "code",
   "execution_count": 47,
   "id": "7ef9c954-17e5-40c0-938f-728756a2f39d",
   "metadata": {},
   "outputs": [],
   "source": [
    "salmon = df[df['Type of Fish'].str.contains('Salmon', na=False)]"
   ]
  },
  {
   "cell_type": "code",
   "execution_count": 48,
   "id": "fd752eb2-3a7a-46e3-a573-b80db5154301",
   "metadata": {},
   "outputs": [
    {
     "data": {
      "text/plain": [
       "Country Origin\n",
       "USA         9\n",
       "Poland      3\n",
       "France      3\n",
       "Portugal    2\n",
       "Denmark     2\n",
       "Italy       1\n",
       "Chile       1\n",
       "Canada      1\n",
       "Germany     1\n",
       "Name: count, dtype: int64"
      ]
     },
     "execution_count": 48,
     "metadata": {},
     "output_type": "execute_result"
    }
   ],
   "source": [
    "salmon['Country Origin'].value_counts()"
   ]
  },
  {
   "cell_type": "markdown",
   "id": "e95e4d8f-26ed-4355-8e1a-94e8eef97cb2",
   "metadata": {},
   "source": [
    "### 🇺🇸"
   ]
  },
  {
   "cell_type": "code",
   "execution_count": 49,
   "id": "a37318e3-ac31-4453-b15f-bb51169120cf",
   "metadata": {},
   "outputs": [
    {
     "data": {
      "text/plain": [
       "16.0"
      ]
     },
     "execution_count": 49,
     "metadata": {},
     "output_type": "execute_result"
    }
   ],
   "source": [
    "USA = salmon[salmon['Country Origin'] == 'USA']\n",
    "USA['RTG $'].astype(float).median()"
   ]
  },
  {
   "cell_type": "code",
   "execution_count": 50,
   "id": "fbf837c4-282c-44b1-83bc-bf0a36bb9832",
   "metadata": {},
   "outputs": [
    {
     "data": {
      "text/plain": [
       "598    Extra Virgin Olive Oil, Organic\n",
       "599    Extra Virgin Olive Oil, Organic\n",
       "600    Extra Virgin Olive Oil, Organic\n",
       "784                                NaN\n",
       "785                                NaN\n",
       "788                                NaN\n",
       "790                                NaN\n",
       "791                                NaN\n",
       "792                                NaN\n",
       "Name: Oil/Water Used, dtype: object"
      ]
     },
     "execution_count": 50,
     "metadata": {},
     "output_type": "execute_result"
    }
   ],
   "source": [
    "USA['Oil/Water Used']"
   ]
  },
  {
   "cell_type": "code",
   "execution_count": 51,
   "id": "264cb5ee-e0ef-4abd-b3d2-f10c90522e5c",
   "metadata": {},
   "outputs": [
    {
     "data": {
      "text/plain": [
       "Oil/Water Used\n",
       "Extra Virgin Olive Oil, Organic    3\n",
       "Name: count, dtype: int64"
      ]
     },
     "execution_count": 51,
     "metadata": {},
     "output_type": "execute_result"
    }
   ],
   "source": [
    "USA['Oil/Water Used'].value_counts()"
   ]
  },
  {
   "cell_type": "code",
   "execution_count": 52,
   "id": "a267e07c-ed1c-4234-89dc-cae53e42e5c8",
   "metadata": {},
   "outputs": [
    {
     "data": {
      "text/plain": [
       "6.0"
      ]
     },
     "execution_count": 52,
     "metadata": {},
     "output_type": "execute_result"
    }
   ],
   "source": [
    "USA['Tin Size (in oz unless otherwise noted)'].median()"
   ]
  },
  {
   "cell_type": "markdown",
   "id": "dc83e8cd-71a2-4c3b-a11e-42491ee0cb8f",
   "metadata": {},
   "source": [
    "### 🇵🇱"
   ]
  },
  {
   "cell_type": "code",
   "execution_count": 53,
   "id": "5c5154b0-9171-46cb-8e25-2c30ac6e97f6",
   "metadata": {},
   "outputs": [
    {
     "data": {
      "text/plain": [
       "5.0"
      ]
     },
     "execution_count": 53,
     "metadata": {},
     "output_type": "execute_result"
    }
   ],
   "source": [
    "Poland = salmon[salmon['Country Origin'] == 'Poland']\n",
    "Poland['RTG $'].astype(float).median()"
   ]
  },
  {
   "cell_type": "code",
   "execution_count": 54,
   "id": "a1bc01b6-dbd3-4b49-a459-90d094f0aa65",
   "metadata": {},
   "outputs": [
    {
     "data": {
      "text/plain": [
       "Oil/Water Used\n",
       "Extra Virgin Olive Oil    3\n",
       "Name: count, dtype: int64"
      ]
     },
     "execution_count": 54,
     "metadata": {},
     "output_type": "execute_result"
    }
   ],
   "source": [
    "Poland['Oil/Water Used'].value_counts()"
   ]
  },
  {
   "cell_type": "code",
   "execution_count": 55,
   "id": "ce3be0ed-6e4e-47e4-bf0b-b6e5327853e5",
   "metadata": {},
   "outputs": [
    {
     "data": {
      "text/plain": [
       "4.05"
      ]
     },
     "execution_count": 55,
     "metadata": {},
     "output_type": "execute_result"
    }
   ],
   "source": [
    "Poland['Tin Size (in oz unless otherwise noted)'].median()"
   ]
  },
  {
   "cell_type": "markdown",
   "id": "286134d1-24f8-4723-8e3d-7e2a784634e4",
   "metadata": {},
   "source": [
    "### 🇫🇷"
   ]
  },
  {
   "cell_type": "code",
   "execution_count": 56,
   "id": "ce58f14d-47f7-4e62-9b43-93c086094ebd",
   "metadata": {},
   "outputs": [
    {
     "data": {
      "text/plain": [
       "9.0"
      ]
     },
     "execution_count": 56,
     "metadata": {},
     "output_type": "execute_result"
    }
   ],
   "source": [
    "France = salmon[salmon['Country Origin'] == 'France']\n",
    "France['RTG $'].astype(float).median()"
   ]
  },
  {
   "cell_type": "code",
   "execution_count": 57,
   "id": "6051f9ef-9ed4-4ca0-ae1b-467f43f243a5",
   "metadata": {},
   "outputs": [
    {
     "data": {
      "text/plain": [
       "250     Spring water\n",
       "271              NaN\n",
       "479    Sunflower Oil\n",
       "Name: Oil/Water Used, dtype: object"
      ]
     },
     "execution_count": 57,
     "metadata": {},
     "output_type": "execute_result"
    }
   ],
   "source": [
    "France['Oil/Water Used']"
   ]
  },
  {
   "cell_type": "code",
   "execution_count": 58,
   "id": "911f3bb5-49c1-423f-aa00-e96d72ab46cf",
   "metadata": {},
   "outputs": [
    {
     "data": {
      "text/plain": [
       "Oil/Water Used\n",
       "Spring water     1\n",
       "Sunflower Oil    1\n",
       "Name: count, dtype: int64"
      ]
     },
     "execution_count": 58,
     "metadata": {},
     "output_type": "execute_result"
    }
   ],
   "source": [
    "France['Oil/Water Used'].value_counts()"
   ]
  },
  {
   "cell_type": "code",
   "execution_count": 59,
   "id": "63095fa7-d5fd-48d2-95fc-6d7ef0f8b648",
   "metadata": {},
   "outputs": [
    {
     "data": {
      "text/plain": [
       "4.0"
      ]
     },
     "execution_count": 59,
     "metadata": {},
     "output_type": "execute_result"
    }
   ],
   "source": [
    "France['Tin Size (in oz unless otherwise noted)'].median()"
   ]
  },
  {
   "cell_type": "markdown",
   "id": "9b6a7a17-8db6-431c-bdac-45208e602447",
   "metadata": {},
   "source": [
    "### 🐟 🐟 Tuna 🐟 🐟"
   ]
  },
  {
   "cell_type": "code",
   "execution_count": 60,
   "id": "303a879b-7086-4007-a334-6e6f8c797877",
   "metadata": {},
   "outputs": [],
   "source": [
    "tuna = df[df['Type of Fish'].str.contains('Tuna', na=False)]"
   ]
  },
  {
   "cell_type": "code",
   "execution_count": 61,
   "id": "9b7a2014-cde3-4072-b8f4-75f4087d02db",
   "metadata": {},
   "outputs": [
    {
     "data": {
      "text/plain": [
       "(126, 30)"
      ]
     },
     "execution_count": 61,
     "metadata": {},
     "output_type": "execute_result"
    }
   ],
   "source": [
    "# 2nd most popular fish at RTG\n",
    "\n",
    "tuna.shape"
   ]
  },
  {
   "cell_type": "code",
   "execution_count": 62,
   "id": "aa8c87d8-e4f8-4e48-9f10-d5013b9da8a2",
   "metadata": {},
   "outputs": [
    {
     "data": {
      "text/plain": [
       "Country Origin\n",
       "Spain          79\n",
       "Portugal       19\n",
       "Italy          11\n",
       "France          8\n",
       "Cape Verde      4\n",
       "El Salvador     4\n",
       "USA             1\n",
       "Name: count, dtype: int64"
      ]
     },
     "execution_count": 62,
     "metadata": {},
     "output_type": "execute_result"
    }
   ],
   "source": [
    "tuna['Country Origin'].value_counts()"
   ]
  },
  {
   "cell_type": "markdown",
   "id": "71c88cba-adee-45dc-a5bb-aab0aa58db5e",
   "metadata": {},
   "source": [
    "### 🇪🇸"
   ]
  },
  {
   "cell_type": "code",
   "execution_count": 63,
   "id": "a4d4b643-1bac-4051-be72-3b7e338f4cb0",
   "metadata": {},
   "outputs": [
    {
     "data": {
      "text/plain": [
       "20.0"
      ]
     },
     "execution_count": 63,
     "metadata": {},
     "output_type": "execute_result"
    }
   ],
   "source": [
    "Spain = tuna[tuna['Country Origin'] == 'Spain']\n",
    "Spain['RTG $'].astype(float).median()"
   ]
  },
  {
   "cell_type": "code",
   "execution_count": 64,
   "id": "66e05b6a-2da7-41ba-8da6-c1bd5185c2dc",
   "metadata": {},
   "outputs": [
    {
     "data": {
      "text/plain": [
       "Oil/Water Used\n",
       "Olive Oil                            57\n",
       "Extra Virgin Olive Oil               12\n",
       "Sunflower Oil                         7\n",
       "Olive Oil, Extra Virgin Olive Oil     1\n",
       "Extra Virgin Olive Oil, Organic       1\n",
       "Name: count, dtype: int64"
      ]
     },
     "execution_count": 64,
     "metadata": {},
     "output_type": "execute_result"
    }
   ],
   "source": [
    "Spain['Oil/Water Used'].value_counts()"
   ]
  },
  {
   "cell_type": "code",
   "execution_count": 65,
   "id": "a54ed122-ac0a-47a0-8f32-8e354cd4d63e",
   "metadata": {},
   "outputs": [
    {
     "data": {
      "text/plain": [
       "4.0"
      ]
     },
     "execution_count": 65,
     "metadata": {},
     "output_type": "execute_result"
    }
   ],
   "source": [
    "Spain['Tin Size (in oz unless otherwise noted)'].median()"
   ]
  },
  {
   "cell_type": "markdown",
   "id": "f05ae470-c978-4314-ac40-b336f9e3dfbf",
   "metadata": {},
   "source": [
    "### 🇵🇹"
   ]
  },
  {
   "cell_type": "code",
   "execution_count": 66,
   "id": "f6b354f6-d694-4a51-8413-b65abf7ff5ab",
   "metadata": {},
   "outputs": [
    {
     "data": {
      "text/plain": [
       "11.0"
      ]
     },
     "execution_count": 66,
     "metadata": {},
     "output_type": "execute_result"
    }
   ],
   "source": [
    "Portugal = tuna[tuna['Country Origin'] == 'Portugal']\n",
    "Portugal['RTG $'].astype(float).median()"
   ]
  },
  {
   "cell_type": "code",
   "execution_count": 67,
   "id": "4c4aca9c-0cc3-45c8-a74b-13c8b5229dbf",
   "metadata": {},
   "outputs": [
    {
     "data": {
      "text/plain": [
       "Oil/Water Used\n",
       "Olive Oil                          15\n",
       "Extra Virgin Olive Oil, Organic     1\n",
       "Extra Virgin Olive Oil              1\n",
       "Olive Oil, Organic                  1\n",
       "Name: count, dtype: int64"
      ]
     },
     "execution_count": 67,
     "metadata": {},
     "output_type": "execute_result"
    }
   ],
   "source": [
    "Portugal['Oil/Water Used'].value_counts()"
   ]
  },
  {
   "cell_type": "code",
   "execution_count": 68,
   "id": "bbd14400-d04d-4e2f-87ad-cbd1040d3156",
   "metadata": {},
   "outputs": [
    {
     "data": {
      "text/plain": [
       "4.2"
      ]
     },
     "execution_count": 68,
     "metadata": {},
     "output_type": "execute_result"
    }
   ],
   "source": [
    "Portugal['Tin Size (in oz unless otherwise noted)'].median()"
   ]
  },
  {
   "cell_type": "markdown",
   "id": "f2692bcf-c614-405c-ad10-8a1dabac1619",
   "metadata": {},
   "source": [
    "### 🇮🇹"
   ]
  },
  {
   "cell_type": "code",
   "execution_count": 69,
   "id": "878ad142-310c-4353-b053-f720a05884c6",
   "metadata": {},
   "outputs": [
    {
     "data": {
      "text/plain": [
       "13.0"
      ]
     },
     "execution_count": 69,
     "metadata": {},
     "output_type": "execute_result"
    }
   ],
   "source": [
    "Italy = tuna[tuna['Country Origin'] == 'Italy']\n",
    "Italy['RTG $'].astype(float).median()"
   ]
  },
  {
   "cell_type": "code",
   "execution_count": 70,
   "id": "ea1aff2c-2cfc-420a-9ad6-8dd32e19a0c5",
   "metadata": {},
   "outputs": [
    {
     "data": {
      "text/plain": [
       "Oil/Water Used\n",
       "Olive Oil        10\n",
       "Sunflower Oil     1\n",
       "Name: count, dtype: int64"
      ]
     },
     "execution_count": 70,
     "metadata": {},
     "output_type": "execute_result"
    }
   ],
   "source": [
    "Italy['Oil/Water Used'].value_counts()"
   ]
  },
  {
   "cell_type": "code",
   "execution_count": 71,
   "id": "b349e584-56d2-42af-92cf-70074bd84ace",
   "metadata": {},
   "outputs": [
    {
     "data": {
      "text/plain": [
       "6.75"
      ]
     },
     "execution_count": 71,
     "metadata": {},
     "output_type": "execute_result"
    }
   ],
   "source": [
    "Italy['Tin Size (in oz unless otherwise noted)'].median()"
   ]
  },
  {
   "cell_type": "markdown",
   "id": "71b558bb-53cc-46bc-97bc-eec92cb51430",
   "metadata": {},
   "source": [
    "## Price per oz"
   ]
  },
  {
   "cell_type": "code",
   "execution_count": 3,
   "id": "d0ad2e05-4ca4-46af-852b-f1129d7ff19d",
   "metadata": {},
   "outputs": [
    {
     "name": "stdout",
     "output_type": "stream",
     "text": [
      "           Type of Fish  Average Price (USD)  Average Size (oz)\n",
      "0      Spainish anchovy                21.00               3.50\n",
      "1       Italian anchovy                10.75               3.17\n",
      "2        French anchovy                 8.75               2.98\n",
      "3   Portuguese mackerel                 9.50               4.20\n",
      "4      Spanish mackerel                 9.75               4.10\n",
      "5       French mackerel                 9.00               5.36\n",
      "6    Portuguese sardine                 8.00               4.20\n",
      "7        French sardine                10.50               4.00\n",
      "8       Spanish sardine                11.00               4.20\n",
      "9          Spanish tuna                20.00               4.00\n",
      "10      Portuguese tuna                11.00               4.20\n",
      "11         Italian tuna                13.00               6.75\n"
     ]
    }
   ],
   "source": [
    "import pandas as pd\n",
    "\n",
    "select_df = [\n",
    "    [\"Spainish anchovy\", 21, 3.5],\n",
    "    [\"Italian anchovy\", 10.75, 3.17],\n",
    "    [\"French anchovy\", 8.75, 2.98],\n",
    "    [\"Portuguese mackerel\", 9.5, 4.2],\n",
    "    [\"Spanish mackerel\", 9.75, 4.1],\n",
    "    [\"French mackerel\", 9, 5.36],\n",
    "    [\"Portuguese sardine\", 8, 4.2],\n",
    "    [\"French sardine\", 10.5, 4],\n",
    "    [\"Spanish sardine\", 11, 4.2],\n",
    "    [\"Spanish tuna\", 20, 4],\n",
    "    [\"Portuguese tuna\", 11, 4.2],\n",
    "    [\"Italian tuna\", 13, 6.75]\n",
    "]\n",
    "\n",
    "# Define column names\n",
    "columns = [\"Type of Fish\", \"Average Price (USD)\", \"Average Size (oz)\"]\n",
    "\n",
    "# Create the dataframe\n",
    "select_df = pd.DataFrame(select_df, columns=columns)\n",
    "\n",
    "# Display the dataframe\n",
    "print(select_df)"
   ]
  },
  {
   "cell_type": "code",
   "execution_count": 7,
   "id": "357dfecb-156d-4336-bbb8-96bc8661aaea",
   "metadata": {},
   "outputs": [],
   "source": [
    "select_df['price_per_oz'] = select_df['Average Price (USD)'] / select_df['Average Size (oz)']"
   ]
  },
  {
   "cell_type": "code",
   "execution_count": 10,
   "id": "5a51d5d0-49c5-4e5d-881e-f29827315311",
   "metadata": {},
   "outputs": [
    {
     "data": {
      "text/html": [
       "<div>\n",
       "<style scoped>\n",
       "    .dataframe tbody tr th:only-of-type {\n",
       "        vertical-align: middle;\n",
       "    }\n",
       "\n",
       "    .dataframe tbody tr th {\n",
       "        vertical-align: top;\n",
       "    }\n",
       "\n",
       "    .dataframe thead th {\n",
       "        text-align: right;\n",
       "    }\n",
       "</style>\n",
       "<table border=\"1\" class=\"dataframe\">\n",
       "  <thead>\n",
       "    <tr style=\"text-align: right;\">\n",
       "      <th></th>\n",
       "      <th>Type of Fish</th>\n",
       "      <th>Average Price (USD)</th>\n",
       "      <th>Average Size (oz)</th>\n",
       "      <th>price_per_oz</th>\n",
       "    </tr>\n",
       "  </thead>\n",
       "  <tbody>\n",
       "    <tr>\n",
       "      <th>5</th>\n",
       "      <td>French mackerel</td>\n",
       "      <td>9.00</td>\n",
       "      <td>5.36</td>\n",
       "      <td>1.679104</td>\n",
       "    </tr>\n",
       "    <tr>\n",
       "      <th>6</th>\n",
       "      <td>Portuguese sardine</td>\n",
       "      <td>8.00</td>\n",
       "      <td>4.20</td>\n",
       "      <td>1.904762</td>\n",
       "    </tr>\n",
       "    <tr>\n",
       "      <th>11</th>\n",
       "      <td>Italian tuna</td>\n",
       "      <td>13.00</td>\n",
       "      <td>6.75</td>\n",
       "      <td>1.925926</td>\n",
       "    </tr>\n",
       "    <tr>\n",
       "      <th>3</th>\n",
       "      <td>Portuguese mackerel</td>\n",
       "      <td>9.50</td>\n",
       "      <td>4.20</td>\n",
       "      <td>2.261905</td>\n",
       "    </tr>\n",
       "    <tr>\n",
       "      <th>4</th>\n",
       "      <td>Spanish mackerel</td>\n",
       "      <td>9.75</td>\n",
       "      <td>4.10</td>\n",
       "      <td>2.378049</td>\n",
       "    </tr>\n",
       "    <tr>\n",
       "      <th>8</th>\n",
       "      <td>Spanish sardine</td>\n",
       "      <td>11.00</td>\n",
       "      <td>4.20</td>\n",
       "      <td>2.619048</td>\n",
       "    </tr>\n",
       "    <tr>\n",
       "      <th>10</th>\n",
       "      <td>Portuguese tuna</td>\n",
       "      <td>11.00</td>\n",
       "      <td>4.20</td>\n",
       "      <td>2.619048</td>\n",
       "    </tr>\n",
       "    <tr>\n",
       "      <th>7</th>\n",
       "      <td>French sardine</td>\n",
       "      <td>10.50</td>\n",
       "      <td>4.00</td>\n",
       "      <td>2.625000</td>\n",
       "    </tr>\n",
       "    <tr>\n",
       "      <th>2</th>\n",
       "      <td>French anchovy</td>\n",
       "      <td>8.75</td>\n",
       "      <td>2.98</td>\n",
       "      <td>2.936242</td>\n",
       "    </tr>\n",
       "    <tr>\n",
       "      <th>1</th>\n",
       "      <td>Italian anchovy</td>\n",
       "      <td>10.75</td>\n",
       "      <td>3.17</td>\n",
       "      <td>3.391167</td>\n",
       "    </tr>\n",
       "    <tr>\n",
       "      <th>9</th>\n",
       "      <td>Spanish tuna</td>\n",
       "      <td>20.00</td>\n",
       "      <td>4.00</td>\n",
       "      <td>5.000000</td>\n",
       "    </tr>\n",
       "    <tr>\n",
       "      <th>0</th>\n",
       "      <td>Spainish anchovy</td>\n",
       "      <td>21.00</td>\n",
       "      <td>3.50</td>\n",
       "      <td>6.000000</td>\n",
       "    </tr>\n",
       "  </tbody>\n",
       "</table>\n",
       "</div>"
      ],
      "text/plain": [
       "           Type of Fish  Average Price (USD)  Average Size (oz)  price_per_oz\n",
       "5       French mackerel                 9.00               5.36      1.679104\n",
       "6    Portuguese sardine                 8.00               4.20      1.904762\n",
       "11         Italian tuna                13.00               6.75      1.925926\n",
       "3   Portuguese mackerel                 9.50               4.20      2.261905\n",
       "4      Spanish mackerel                 9.75               4.10      2.378049\n",
       "8       Spanish sardine                11.00               4.20      2.619048\n",
       "10      Portuguese tuna                11.00               4.20      2.619048\n",
       "7        French sardine                10.50               4.00      2.625000\n",
       "2        French anchovy                 8.75               2.98      2.936242\n",
       "1       Italian anchovy                10.75               3.17      3.391167\n",
       "9          Spanish tuna                20.00               4.00      5.000000\n",
       "0      Spainish anchovy                21.00               3.50      6.000000"
      ]
     },
     "execution_count": 10,
     "metadata": {},
     "output_type": "execute_result"
    }
   ],
   "source": [
    "select_df.sort_values(by=\"price_per_oz\", ascending=True)"
   ]
  },
  {
   "cell_type": "markdown",
   "id": "cb91b9ec-bab2-4ff4-9282-25635d55cb51",
   "metadata": {},
   "source": [
    "## Total fish count"
   ]
  },
  {
   "cell_type": "code",
   "execution_count": 74,
   "id": "209c3704-aecf-4dc9-a103-ba7badc89c62",
   "metadata": {},
   "outputs": [
    {
     "data": {
      "text/plain": [
       "476"
      ]
     },
     "execution_count": 74,
     "metadata": {},
     "output_type": "execute_result"
    }
   ],
   "source": [
    "len(mackerel) + len(sardine) + len(tuna) + len(anchovy)"
   ]
  },
  {
   "cell_type": "markdown",
   "id": "2e8e1fe6-ae1b-4d95-bf06-ffcde7e8dc41",
   "metadata": {},
   "source": [
    "## Oil used"
   ]
  },
  {
   "cell_type": "code",
   "execution_count": 85,
   "id": "b614c63f-eaad-4427-86c8-8967fe5903b9",
   "metadata": {},
   "outputs": [
    {
     "data": {
      "text/plain": [
       "Country Origin\n",
       "France         63\n",
       "Spain          61\n",
       "Portugal       22\n",
       "Poland         14\n",
       "USA             5\n",
       "El Salvador     4\n",
       "Italy           2\n",
       "Japan           1\n",
       "Name: count, dtype: int64"
      ]
     },
     "execution_count": 85,
     "metadata": {},
     "output_type": "execute_result"
    }
   ],
   "source": [
    "df[df['Oil/Water Used'].str.contains('Extra Virgin Olive Oil', na=False)]['Country Origin'].value_counts()"
   ]
  },
  {
   "cell_type": "code",
   "execution_count": null,
   "id": "3d9e0f9e-5f0c-4479-8dad-10da6a51a098",
   "metadata": {},
   "outputs": [],
   "source": []
  }
 ],
 "metadata": {
  "kernelspec": {
   "display_name": "Python 3 (ipykernel)",
   "language": "python",
   "name": "python3"
  },
  "language_info": {
   "codemirror_mode": {
    "name": "ipython",
    "version": 3
   },
   "file_extension": ".py",
   "mimetype": "text/x-python",
   "name": "python",
   "nbconvert_exporter": "python",
   "pygments_lexer": "ipython3",
   "version": "3.12.7"
  }
 },
 "nbformat": 4,
 "nbformat_minor": 5
}
