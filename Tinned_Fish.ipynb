{
 "cells": [
  {
   "cell_type": "code",
   "execution_count": 169,
   "id": "c1529fdc-3440-433c-998b-720850a92b5f",
   "metadata": {},
   "outputs": [],
   "source": [
    "import pandas as pd"
   ]
  },
  {
   "cell_type": "code",
   "execution_count": 170,
   "id": "a254d62b-9352-4769-a22c-ddf434802856",
   "metadata": {
    "scrolled": true
   },
   "outputs": [
    {
     "data": {
      "text/plain": [
       "Type of Fish\n",
       "Sardines                             225\n",
       "Mackerel                              71\n",
       "Mussels                               54\n",
       "Anchovy                               45\n",
       "Tuna, Albacore (Bonito del Norte)     44\n",
       "Tuna, Yellowfin                       34\n",
       "Squid                                 27\n",
       "Tuna, Skipjack                        26\n",
       "Sprats                                25\n",
       "Octopus                               21\n",
       "Cockles                               18\n",
       "Herring                               18\n",
       "Salmon                                14\n",
       "Clam, Razor                           13\n",
       "Tuna, Bluefin                          9\n",
       "Cod                                    9\n",
       "Eel                                    9\n",
       "Trout                                  8\n",
       "Scallop                                8\n",
       "Garfish                                7\n",
       "Anchovies                              7\n",
       "Dace                                   6\n",
       "Hake                                   6\n",
       "King Crab                              6\n",
       "Tuna, Bigeye                           5\n",
       "Name: count, dtype: int64"
      ]
     },
     "execution_count": 170,
     "metadata": {},
     "output_type": "execute_result"
    }
   ],
   "source": [
    "# Rainbow Tomatoes Garden(RTG)'s product dataset\n",
    "\n",
    "df = pd.read_csv('Rainbow Tomatoes Garden Fish List.csv')\n",
    "\n",
    "df['Type of Fish'].value_counts(ascending=False).head(25)"
   ]
  },
  {
   "cell_type": "code",
   "execution_count": 171,
   "id": "2a0fb7d0-94c8-4952-b789-7f936c96a06f",
   "metadata": {
    "scrolled": true
   },
   "outputs": [
    {
     "data": {
      "text/plain": [
       "(810, 30)"
      ]
     },
     "execution_count": 171,
     "metadata": {},
     "output_type": "execute_result"
    }
   ],
   "source": [
    "df.shape"
   ]
  },
  {
   "cell_type": "markdown",
   "id": "3c3b04da-0a83-41ee-a829-74d3de34325f",
   "metadata": {},
   "source": [
    "## Different fish and their origins (median price, oil used, median can size)"
   ]
  },
  {
   "cell_type": "markdown",
   "id": "bb45e9c4-aaa9-4090-9b9d-119b4599b440",
   "metadata": {},
   "source": [
    "### 🐟 🐟 Sardine 🐟 🐟 "
   ]
  },
  {
   "cell_type": "code",
   "execution_count": 172,
   "id": "1b79b9f6-76a3-4224-a12d-1348624a0ff3",
   "metadata": {
    "scrolled": true
   },
   "outputs": [],
   "source": [
    "sardine = df[df['Type of Fish'].isin(['Sardines', 'Sardine'])]"
   ]
  },
  {
   "cell_type": "code",
   "execution_count": 173,
   "id": "e77fff81-b8dd-4dbe-a982-dee48ba691bf",
   "metadata": {},
   "outputs": [
    {
     "data": {
      "text/plain": [
       "Country Origin\n",
       "Portugal    73\n",
       "France      66\n",
       "Spain       66\n",
       "Italy        8\n",
       "Morocco      7\n",
       "Japan        3\n",
       "Greece       3\n",
       "Spain        1\n",
       "Name: count, dtype: int64"
      ]
     },
     "execution_count": 173,
     "metadata": {},
     "output_type": "execute_result"
    }
   ],
   "source": [
    "sardine['Country Origin'].value_counts()"
   ]
  },
  {
   "cell_type": "markdown",
   "id": "6367c161-247c-4b6f-b1fd-a63732dbe4d0",
   "metadata": {},
   "source": [
    "### 🇵🇹"
   ]
  },
  {
   "cell_type": "code",
   "execution_count": 174,
   "id": "f69a1a46-1ea4-46fa-8a51-d4b40e50a6cc",
   "metadata": {},
   "outputs": [
    {
     "data": {
      "text/plain": [
       "8.0"
      ]
     },
     "execution_count": 174,
     "metadata": {},
     "output_type": "execute_result"
    }
   ],
   "source": [
    "Portugal = sardine[sardine['Country Origin'] == 'Portugal']\n",
    "Portugal['RTG $'].astype(float).median()"
   ]
  },
  {
   "cell_type": "code",
   "execution_count": 175,
   "id": "0d48c327-432a-4f83-91bb-0d94b81ccd1c",
   "metadata": {},
   "outputs": [
    {
     "data": {
      "text/plain": [
       "Oil/Water Used\n",
       "Olive Oil                          50\n",
       "Extra Virgin Olive Oil              8\n",
       "Sunflower                           4\n",
       "Extra Virgin Olive Oil, Organic     4\n",
       "Sunflower Oil                       4\n",
       "Olive OIl                           1\n",
       "Olive Oli                           1\n",
       "Name: count, dtype: int64"
      ]
     },
     "execution_count": 175,
     "metadata": {},
     "output_type": "execute_result"
    }
   ],
   "source": [
    "Portugal['Oil/Water Used'].value_counts()"
   ]
  },
  {
   "cell_type": "markdown",
   "id": "1b3c55a8-025e-46b0-953b-cf95ffd80196",
   "metadata": {},
   "source": [
    "**Q: Portugal's canned sardine is the cheapest because it mainly uses non-extra virgin olive oil?**"
   ]
  },
  {
   "cell_type": "code",
   "execution_count": 176,
   "id": "516d7818-5d09-4bdd-b717-fb73915eac2d",
   "metadata": {},
   "outputs": [
    {
     "data": {
      "text/plain": [
       "4.2"
      ]
     },
     "execution_count": 176,
     "metadata": {},
     "output_type": "execute_result"
    }
   ],
   "source": [
    "Portugal['Tin Size (in oz unless otherwise noted)'].median()"
   ]
  },
  {
   "cell_type": "markdown",
   "id": "0dc84d89-2ac7-4bea-a8e7-e082f905ea65",
   "metadata": {},
   "source": [
    "**Portugal = cheap, big portion, bad oil**"
   ]
  },
  {
   "cell_type": "markdown",
   "id": "051df47b-ec42-4273-a2c9-439107f38107",
   "metadata": {},
   "source": [
    "### 🇫🇷"
   ]
  },
  {
   "cell_type": "code",
   "execution_count": 177,
   "id": "21f59e2f-737e-44b4-973b-d2a3d8f9bcdf",
   "metadata": {},
   "outputs": [
    {
     "data": {
      "text/plain": [
       "10.5"
      ]
     },
     "execution_count": 177,
     "metadata": {},
     "output_type": "execute_result"
    }
   ],
   "source": [
    "France = sardine[sardine['Country Origin'] == 'France']\n",
    "France['RTG $'].astype(float).median()"
   ]
  },
  {
   "cell_type": "code",
   "execution_count": 178,
   "id": "819d7d89-141a-4c00-bd4a-f9ded2aff621",
   "metadata": {},
   "outputs": [
    {
     "data": {
      "text/plain": [
       "Oil/Water Used\n",
       "Extra Virgin Olive Oil                                     35\n",
       "Extra Virgin Olive Oil, Organic                            10\n",
       "Sunflower Oil                                               5\n",
       "Butter                                                      5\n",
       "Sunflower, Extra Virgin Olive Oil                           3\n",
       "Olive Oil                                                   2\n",
       "Grapeseed Oil                                               2\n",
       "Extra Virgin Olive Oil, Sunflower Oil                       1\n",
       "Extra Virgin Olive Oil, Organic; Sunflower Oil, Organic     1\n",
       "Peanut Oil                                                  1\n",
       "Extra Virgin Olive OIl                                      1\n",
       "Name: count, dtype: int64"
      ]
     },
     "execution_count": 178,
     "metadata": {},
     "output_type": "execute_result"
    }
   ],
   "source": [
    "France['Oil/Water Used'].value_counts()"
   ]
  },
  {
   "cell_type": "code",
   "execution_count": 179,
   "id": "ff8fa29d-0718-47c0-9197-05739f32a330",
   "metadata": {},
   "outputs": [
    {
     "data": {
      "text/plain": [
       "4.0"
      ]
     },
     "execution_count": 179,
     "metadata": {},
     "output_type": "execute_result"
    }
   ],
   "source": [
    "France['Tin Size (in oz unless otherwise noted)'].median()"
   ]
  },
  {
   "cell_type": "markdown",
   "id": "0e37ae95-f11f-45d8-ab48-63ed415d06e2",
   "metadata": {},
   "source": [
    "**France = expensive, smaller portion, great oil**"
   ]
  },
  {
   "cell_type": "markdown",
   "id": "b39d0e10-15c8-4de6-9b2c-b326a3f12be1",
   "metadata": {},
   "source": [
    "### 🇪🇸"
   ]
  },
  {
   "cell_type": "code",
   "execution_count": 180,
   "id": "67f457df-d811-4725-8cca-df912532c9cb",
   "metadata": {},
   "outputs": [
    {
     "data": {
      "text/plain": [
       "11.0"
      ]
     },
     "execution_count": 180,
     "metadata": {},
     "output_type": "execute_result"
    }
   ],
   "source": [
    "Spain = sardine[sardine['Country Origin'] == 'Spain']\n",
    "Spain['RTG $'].astype(float).median()"
   ]
  },
  {
   "cell_type": "code",
   "execution_count": 181,
   "id": "e3bd821d-38cc-4d02-afad-a7b4b4583320",
   "metadata": {},
   "outputs": [
    {
     "data": {
      "text/plain": [
       "Oil/Water Used\n",
       "Olive Oil                          51\n",
       "Extra Virgin Olive Oil              6\n",
       "Sunflower Oil                       4\n",
       "Extra Virgin Olive Oil, Organic     2\n",
       "Olive OIl                           2\n",
       "Vegetable Oil                       1\n",
       "Name: count, dtype: int64"
      ]
     },
     "execution_count": 181,
     "metadata": {},
     "output_type": "execute_result"
    }
   ],
   "source": [
    "Spain['Oil/Water Used'].value_counts()"
   ]
  },
  {
   "cell_type": "code",
   "execution_count": 182,
   "id": "c37f2372-2db0-4a0f-8a63-08dac7631eeb",
   "metadata": {},
   "outputs": [
    {
     "data": {
      "text/plain": [
       "4.2"
      ]
     },
     "execution_count": 182,
     "metadata": {},
     "output_type": "execute_result"
    }
   ],
   "source": [
    "Spain['Tin Size (in oz unless otherwise noted)'].median()"
   ]
  },
  {
   "cell_type": "markdown",
   "id": "de0e097f-e22e-40e3-8c5f-2a81ed449c7b",
   "metadata": {},
   "source": [
    "**Spain = most expensive, same portion as Portugal, bad oil... not worth!**"
   ]
  },
  {
   "cell_type": "markdown",
   "id": "98c00ebf-9bd5-4c0f-8440-244f3fe60979",
   "metadata": {},
   "source": [
    "### 🐟 🐟 Mackerel 🐟 🐟"
   ]
  },
  {
   "cell_type": "code",
   "execution_count": 183,
   "id": "d331f16b-b422-427c-8180-dd1adac63393",
   "metadata": {},
   "outputs": [],
   "source": [
    "mackerel = df[df['Type of Fish'] == 'Mackerel']"
   ]
  },
  {
   "cell_type": "code",
   "execution_count": 184,
   "id": "09b19460-8a16-46cd-8690-8b8c2279d98d",
   "metadata": {},
   "outputs": [
    {
     "data": {
      "text/plain": [
       "Country Origin\n",
       "Portugal      18\n",
       "Spain         16\n",
       "France        14\n",
       "Scotland       6\n",
       "Japan          5\n",
       "Poland         4\n",
       "Norway         3\n",
       "Italy          2\n",
       "Cape Verde     1\n",
       "USA            1\n",
       "Germany        1\n",
       "Name: count, dtype: int64"
      ]
     },
     "execution_count": 184,
     "metadata": {},
     "output_type": "execute_result"
    }
   ],
   "source": [
    "mackerel['Country Origin'].value_counts()"
   ]
  },
  {
   "cell_type": "markdown",
   "id": "1b4131e5-6309-4010-b6db-a7cfe794bac3",
   "metadata": {},
   "source": [
    "### 🇵🇹"
   ]
  },
  {
   "cell_type": "code",
   "execution_count": 185,
   "id": "170c4c89-0372-4394-9b1c-ce43d9bfd91f",
   "metadata": {},
   "outputs": [
    {
     "data": {
      "text/plain": [
       "9.5"
      ]
     },
     "execution_count": 185,
     "metadata": {},
     "output_type": "execute_result"
    }
   ],
   "source": [
    "Portugal = mackerel[mackerel['Country Origin'] == 'Portugal']\n",
    "Portugal['RTG $'].astype(float).median()"
   ]
  },
  {
   "cell_type": "code",
   "execution_count": 186,
   "id": "09cb6a50-9337-423e-9ed9-94c80a992302",
   "metadata": {},
   "outputs": [
    {
     "data": {
      "text/plain": [
       "Oil/Water Used\n",
       "Olive Oil                          13\n",
       "Extra Virgin Olive Oil, Organic     3\n",
       "Rapeseed Oil                        1\n",
       "Extra Virgin Olive Oil              1\n",
       "Name: count, dtype: int64"
      ]
     },
     "execution_count": 186,
     "metadata": {},
     "output_type": "execute_result"
    }
   ],
   "source": [
    "Portugal['Oil/Water Used'].value_counts()"
   ]
  },
  {
   "cell_type": "code",
   "execution_count": 187,
   "id": "a0c79d06-ba62-4314-abcb-716a48ed4e87",
   "metadata": {},
   "outputs": [
    {
     "data": {
      "text/plain": [
       "4.2"
      ]
     },
     "execution_count": 187,
     "metadata": {},
     "output_type": "execute_result"
    }
   ],
   "source": [
    "Portugal['Tin Size (in oz unless otherwise noted)'].astype(float).median()"
   ]
  },
  {
   "cell_type": "markdown",
   "id": "64965c1c-88c4-46ad-b1fb-12128195d524",
   "metadata": {},
   "source": [
    "### 🇪🇸"
   ]
  },
  {
   "cell_type": "code",
   "execution_count": 188,
   "id": "fa5eae1d-9882-44c3-b987-50f8e67f368d",
   "metadata": {},
   "outputs": [
    {
     "data": {
      "text/plain": [
       "9.75"
      ]
     },
     "execution_count": 188,
     "metadata": {},
     "output_type": "execute_result"
    }
   ],
   "source": [
    "Spain = mackerel[mackerel['Country Origin'] == 'Spain']\n",
    "Spain['RTG $'].astype(float).median()"
   ]
  },
  {
   "cell_type": "code",
   "execution_count": 189,
   "id": "687509f0-6f23-4eeb-862f-53e0e9a61d3a",
   "metadata": {},
   "outputs": [
    {
     "data": {
      "text/plain": [
       "Oil/Water Used\n",
       "Olive Oil                          9\n",
       "Extra Virgin Olive Oil, Organic    5\n",
       "Sunflower Oil                      2\n",
       "Name: count, dtype: int64"
      ]
     },
     "execution_count": 189,
     "metadata": {},
     "output_type": "execute_result"
    }
   ],
   "source": [
    "Spain['Oil/Water Used'].value_counts()"
   ]
  },
  {
   "cell_type": "code",
   "execution_count": 190,
   "id": "0f3949af-b4af-426a-8438-7a1c04efb043",
   "metadata": {},
   "outputs": [
    {
     "data": {
      "text/plain": [
       "4.1"
      ]
     },
     "execution_count": 190,
     "metadata": {},
     "output_type": "execute_result"
    }
   ],
   "source": [
    "Spain['Tin Size (in oz unless otherwise noted)'].astype(float).median()"
   ]
  },
  {
   "cell_type": "markdown",
   "id": "f048e1a5-cb4d-47cd-9197-14973770b45f",
   "metadata": {},
   "source": [
    "### 🇫🇷"
   ]
  },
  {
   "cell_type": "code",
   "execution_count": 191,
   "id": "bb4b72e8-8d9b-4ba9-acfe-e00a2c81aa0d",
   "metadata": {},
   "outputs": [
    {
     "data": {
      "text/plain": [
       "9.0"
      ]
     },
     "execution_count": 191,
     "metadata": {},
     "output_type": "execute_result"
    }
   ],
   "source": [
    "France = mackerel[mackerel['Country Origin'] == 'France']\n",
    "France['RTG $'].astype(float).median()"
   ]
  },
  {
   "cell_type": "code",
   "execution_count": 192,
   "id": "98e22e4e-6d98-40a5-8bfa-a376d516553d",
   "metadata": {},
   "outputs": [
    {
     "data": {
      "text/plain": [
       "Oil/Water Used\n",
       "Sunflower Oil                      5\n",
       "Extra Virgin Olive Oil             4\n",
       "Water                              2\n",
       "Extra Virgin Olive Oil, Organic    1\n",
       "Water, Cream                       1\n",
       "Name: count, dtype: int64"
      ]
     },
     "execution_count": 192,
     "metadata": {},
     "output_type": "execute_result"
    }
   ],
   "source": [
    "France['Oil/Water Used'].value_counts()"
   ]
  },
  {
   "cell_type": "code",
   "execution_count": 193,
   "id": "c7e8d2a5-3dc1-4065-a86e-e0831a763a65",
   "metadata": {},
   "outputs": [
    {
     "data": {
      "text/plain": [
       "5.359999999999999"
      ]
     },
     "execution_count": 193,
     "metadata": {},
     "output_type": "execute_result"
    }
   ],
   "source": [
    "France['Tin Size (in oz unless otherwise noted)'].median()"
   ]
  },
  {
   "cell_type": "markdown",
   "id": "46513f93-e432-49aa-a001-33db2b47c84f",
   "metadata": {},
   "source": [
    "### 🐟 🐟 Anchovy 🐟 🐟"
   ]
  },
  {
   "cell_type": "code",
   "execution_count": 194,
   "id": "26e788ab-31b7-4188-9c55-140d63cc0abf",
   "metadata": {},
   "outputs": [],
   "source": [
    "anchovy = df[df['Type of Fish'].isin(['Anchovy', 'Anchovies'])]"
   ]
  },
  {
   "cell_type": "code",
   "execution_count": 195,
   "id": "b44efcd5-45a7-435d-81e7-fa2327063655",
   "metadata": {},
   "outputs": [
    {
     "data": {
      "text/plain": [
       "Country Origin\n",
       "Spain     36\n",
       "Italy      8\n",
       "France     4\n",
       "Korea      2\n",
       "Peru       1\n",
       "Greece     1\n",
       "Name: count, dtype: int64"
      ]
     },
     "execution_count": 195,
     "metadata": {},
     "output_type": "execute_result"
    }
   ],
   "source": [
    "anchovy['Country Origin'].value_counts()"
   ]
  },
  {
   "cell_type": "markdown",
   "id": "c6d70595-293c-4dfc-bcc8-619bf687e6cd",
   "metadata": {},
   "source": [
    "### 🇪🇸"
   ]
  },
  {
   "cell_type": "code",
   "execution_count": 196,
   "id": "8ea78346-27f3-4e13-84c6-2d75b013f8aa",
   "metadata": {},
   "outputs": [
    {
     "data": {
      "text/plain": [
       "21.0"
      ]
     },
     "execution_count": 196,
     "metadata": {},
     "output_type": "execute_result"
    }
   ],
   "source": [
    "Spain = anchovy[anchovy['Country Origin'] == 'Spain']\n",
    "Spain['RTG $'].astype(float).median()"
   ]
  },
  {
   "cell_type": "code",
   "execution_count": 197,
   "id": "1a501e94-6f80-4771-b0c9-49e56ca56c40",
   "metadata": {},
   "outputs": [
    {
     "data": {
      "text/plain": [
       "Oil/Water Used\n",
       "Olive Oil                          13\n",
       "Extra Virgin Olive Oil             11\n",
       "Sunflower Oil                       8\n",
       "Extra Virgin Olive Oil, Organic     2\n",
       "Anchovy Extract                     1\n",
       "Name: count, dtype: int64"
      ]
     },
     "execution_count": 197,
     "metadata": {},
     "output_type": "execute_result"
    }
   ],
   "source": [
    "Spain['Oil/Water Used'].value_counts()"
   ]
  },
  {
   "cell_type": "code",
   "execution_count": 198,
   "id": "280e7524-a28e-4b0f-ba65-734f56cd3acc",
   "metadata": {},
   "outputs": [
    {
     "data": {
      "text/plain": [
       "3.5"
      ]
     },
     "execution_count": 198,
     "metadata": {},
     "output_type": "execute_result"
    }
   ],
   "source": [
    "Spain['Tin Size (in oz unless otherwise noted)'].median()"
   ]
  },
  {
   "cell_type": "markdown",
   "id": "08ac4ca2-f12f-4561-b495-f5cb6f765d96",
   "metadata": {},
   "source": [
    "### 🇮🇹"
   ]
  },
  {
   "cell_type": "code",
   "execution_count": 199,
   "id": "376b7491-e1d5-46d6-a97a-69f2fd033d7e",
   "metadata": {},
   "outputs": [
    {
     "data": {
      "text/plain": [
       "10.75"
      ]
     },
     "execution_count": 199,
     "metadata": {},
     "output_type": "execute_result"
    }
   ],
   "source": [
    "Italy = anchovy[anchovy['Country Origin'] == 'Italy']\n",
    "Italy['RTG $'].astype(float).median()"
   ]
  },
  {
   "cell_type": "code",
   "execution_count": 200,
   "id": "fd595ca0-005f-4b69-8e9d-6db94d82716f",
   "metadata": {},
   "outputs": [
    {
     "data": {
      "text/plain": [
       "Oil/Water Used\n",
       "Olive Oil                 6\n",
       "Extra Virgin Olive Oil    2\n",
       "Name: count, dtype: int64"
      ]
     },
     "execution_count": 200,
     "metadata": {},
     "output_type": "execute_result"
    }
   ],
   "source": [
    "Italy['Oil/Water Used'].value_counts()"
   ]
  },
  {
   "cell_type": "code",
   "execution_count": 201,
   "id": "ee255ec8-2604-4c91-a1fb-4ca8ce3b369a",
   "metadata": {},
   "outputs": [
    {
     "data": {
      "text/plain": [
       "3.17"
      ]
     },
     "execution_count": 201,
     "metadata": {},
     "output_type": "execute_result"
    }
   ],
   "source": [
    "Italy['Tin Size (in oz unless otherwise noted)'].median()"
   ]
  },
  {
   "cell_type": "markdown",
   "id": "da8920d5-37ae-45fd-b5a9-c24cbbdfc050",
   "metadata": {},
   "source": [
    "**Italy's anchovies are half the price of Spain's!**"
   ]
  },
  {
   "cell_type": "markdown",
   "id": "8a6db621-1fba-45f5-84b3-2c84bc688c7a",
   "metadata": {},
   "source": [
    "### 🇫🇷"
   ]
  },
  {
   "cell_type": "code",
   "execution_count": 202,
   "id": "979f2295-35eb-4b20-a201-aa1b3ce7fee8",
   "metadata": {},
   "outputs": [
    {
     "data": {
      "text/plain": [
       "8.75"
      ]
     },
     "execution_count": 202,
     "metadata": {},
     "output_type": "execute_result"
    }
   ],
   "source": [
    "France = anchovy[anchovy['Country Origin'] == 'France']\n",
    "France['RTG $'].astype(float).median()"
   ]
  },
  {
   "cell_type": "code",
   "execution_count": 203,
   "id": "9162a490-94cc-44e2-aaef-6210bc817a8c",
   "metadata": {},
   "outputs": [
    {
     "data": {
      "text/plain": [
       "Oil/Water Used\n",
       "Extra Virgin Olive Oil, Organic    2\n",
       "Olive Oil                          1\n",
       "Extra Virgin Olive Oil             1\n",
       "Name: count, dtype: int64"
      ]
     },
     "execution_count": 203,
     "metadata": {},
     "output_type": "execute_result"
    }
   ],
   "source": [
    "France['Oil/Water Used'].value_counts()"
   ]
  },
  {
   "cell_type": "code",
   "execution_count": 204,
   "id": "844f1196-5c40-4483-b9e8-78db71995fbb",
   "metadata": {},
   "outputs": [
    {
     "data": {
      "text/plain": [
       "2.98"
      ]
     },
     "execution_count": 204,
     "metadata": {},
     "output_type": "execute_result"
    }
   ],
   "source": [
    "France['Tin Size (in oz unless otherwise noted)'].median()"
   ]
  },
  {
   "cell_type": "markdown",
   "id": "1256ff31-e27c-4a8b-9ab3-58bb3b608e6e",
   "metadata": {},
   "source": [
    "**French fish is more likely to be soaked in extra virgin olive oil!**"
   ]
  },
  {
   "cell_type": "markdown",
   "id": "ea4a11ff-14b8-4001-9a5c-68554c4b52a7",
   "metadata": {},
   "source": [
    "### 🐟 🐟 Salmon 🐟 🐟"
   ]
  },
  {
   "cell_type": "code",
   "execution_count": 205,
   "id": "7ef9c954-17e5-40c0-938f-728756a2f39d",
   "metadata": {},
   "outputs": [],
   "source": [
    "salmon = df[df['Type of Fish'].str.contains('Salmon', na=False)]"
   ]
  },
  {
   "cell_type": "code",
   "execution_count": 206,
   "id": "fd752eb2-3a7a-46e3-a573-b80db5154301",
   "metadata": {},
   "outputs": [
    {
     "data": {
      "text/plain": [
       "Country Origin\n",
       "USA         9\n",
       "Poland      3\n",
       "France      3\n",
       "Portugal    2\n",
       "Denmark     2\n",
       "Italy       1\n",
       "Chile       1\n",
       "Canada      1\n",
       "Germany     1\n",
       "Name: count, dtype: int64"
      ]
     },
     "execution_count": 206,
     "metadata": {},
     "output_type": "execute_result"
    }
   ],
   "source": [
    "salmon['Country Origin'].value_counts()"
   ]
  },
  {
   "cell_type": "markdown",
   "id": "e95e4d8f-26ed-4355-8e1a-94e8eef97cb2",
   "metadata": {},
   "source": [
    "### 🇺🇸"
   ]
  },
  {
   "cell_type": "code",
   "execution_count": 207,
   "id": "a37318e3-ac31-4453-b15f-bb51169120cf",
   "metadata": {},
   "outputs": [
    {
     "data": {
      "text/plain": [
       "16.0"
      ]
     },
     "execution_count": 207,
     "metadata": {},
     "output_type": "execute_result"
    }
   ],
   "source": [
    "USA = salmon[salmon['Country Origin'] == 'USA']\n",
    "USA['RTG $'].astype(float).median()"
   ]
  },
  {
   "cell_type": "code",
   "execution_count": 208,
   "id": "fbf837c4-282c-44b1-83bc-bf0a36bb9832",
   "metadata": {},
   "outputs": [
    {
     "data": {
      "text/plain": [
       "598    Extra Virgin Olive Oil, Organic\n",
       "599    Extra Virgin Olive Oil, Organic\n",
       "600    Extra Virgin Olive Oil, Organic\n",
       "784                                NaN\n",
       "785                                NaN\n",
       "788                                NaN\n",
       "790                                NaN\n",
       "791                                NaN\n",
       "792                                NaN\n",
       "Name: Oil/Water Used, dtype: object"
      ]
     },
     "execution_count": 208,
     "metadata": {},
     "output_type": "execute_result"
    }
   ],
   "source": [
    "USA['Oil/Water Used']"
   ]
  },
  {
   "cell_type": "code",
   "execution_count": 209,
   "id": "264cb5ee-e0ef-4abd-b3d2-f10c90522e5c",
   "metadata": {},
   "outputs": [
    {
     "data": {
      "text/plain": [
       "Oil/Water Used\n",
       "Extra Virgin Olive Oil, Organic    3\n",
       "Name: count, dtype: int64"
      ]
     },
     "execution_count": 209,
     "metadata": {},
     "output_type": "execute_result"
    }
   ],
   "source": [
    "USA['Oil/Water Used'].value_counts()"
   ]
  },
  {
   "cell_type": "code",
   "execution_count": 210,
   "id": "a267e07c-ed1c-4234-89dc-cae53e42e5c8",
   "metadata": {},
   "outputs": [
    {
     "data": {
      "text/plain": [
       "6.0"
      ]
     },
     "execution_count": 210,
     "metadata": {},
     "output_type": "execute_result"
    }
   ],
   "source": [
    "USA['Tin Size (in oz unless otherwise noted)'].median()"
   ]
  },
  {
   "cell_type": "markdown",
   "id": "dc83e8cd-71a2-4c3b-a11e-42491ee0cb8f",
   "metadata": {},
   "source": [
    "### 🇵🇱"
   ]
  },
  {
   "cell_type": "code",
   "execution_count": 211,
   "id": "5c5154b0-9171-46cb-8e25-2c30ac6e97f6",
   "metadata": {},
   "outputs": [
    {
     "data": {
      "text/plain": [
       "5.0"
      ]
     },
     "execution_count": 211,
     "metadata": {},
     "output_type": "execute_result"
    }
   ],
   "source": [
    "Poland = salmon[salmon['Country Origin'] == 'Poland']\n",
    "Poland['RTG $'].astype(float).median()"
   ]
  },
  {
   "cell_type": "code",
   "execution_count": 212,
   "id": "a1bc01b6-dbd3-4b49-a459-90d094f0aa65",
   "metadata": {},
   "outputs": [
    {
     "data": {
      "text/plain": [
       "Oil/Water Used\n",
       "Extra Virgin Olive Oil    3\n",
       "Name: count, dtype: int64"
      ]
     },
     "execution_count": 212,
     "metadata": {},
     "output_type": "execute_result"
    }
   ],
   "source": [
    "Poland['Oil/Water Used'].value_counts()"
   ]
  },
  {
   "cell_type": "code",
   "execution_count": 213,
   "id": "ce3be0ed-6e4e-47e4-bf0b-b6e5327853e5",
   "metadata": {},
   "outputs": [
    {
     "data": {
      "text/plain": [
       "4.05"
      ]
     },
     "execution_count": 213,
     "metadata": {},
     "output_type": "execute_result"
    }
   ],
   "source": [
    "Poland['Tin Size (in oz unless otherwise noted)'].median()"
   ]
  },
  {
   "cell_type": "markdown",
   "id": "286134d1-24f8-4723-8e3d-7e2a784634e4",
   "metadata": {},
   "source": [
    "### 🇫🇷"
   ]
  },
  {
   "cell_type": "code",
   "execution_count": 214,
   "id": "ce58f14d-47f7-4e62-9b43-93c086094ebd",
   "metadata": {},
   "outputs": [
    {
     "data": {
      "text/plain": [
       "9.0"
      ]
     },
     "execution_count": 214,
     "metadata": {},
     "output_type": "execute_result"
    }
   ],
   "source": [
    "France = salmon[salmon['Country Origin'] == 'France']\n",
    "France['RTG $'].astype(float).median()"
   ]
  },
  {
   "cell_type": "code",
   "execution_count": 215,
   "id": "6051f9ef-9ed4-4ca0-ae1b-467f43f243a5",
   "metadata": {},
   "outputs": [
    {
     "data": {
      "text/plain": [
       "250     Spring water\n",
       "271              NaN\n",
       "479    Sunflower Oil\n",
       "Name: Oil/Water Used, dtype: object"
      ]
     },
     "execution_count": 215,
     "metadata": {},
     "output_type": "execute_result"
    }
   ],
   "source": [
    "France['Oil/Water Used']"
   ]
  },
  {
   "cell_type": "code",
   "execution_count": 216,
   "id": "911f3bb5-49c1-423f-aa00-e96d72ab46cf",
   "metadata": {},
   "outputs": [
    {
     "data": {
      "text/plain": [
       "Oil/Water Used\n",
       "Spring water     1\n",
       "Sunflower Oil    1\n",
       "Name: count, dtype: int64"
      ]
     },
     "execution_count": 216,
     "metadata": {},
     "output_type": "execute_result"
    }
   ],
   "source": [
    "France['Oil/Water Used'].value_counts()"
   ]
  },
  {
   "cell_type": "code",
   "execution_count": 217,
   "id": "63095fa7-d5fd-48d2-95fc-6d7ef0f8b648",
   "metadata": {},
   "outputs": [
    {
     "data": {
      "text/plain": [
       "4.0"
      ]
     },
     "execution_count": 217,
     "metadata": {},
     "output_type": "execute_result"
    }
   ],
   "source": [
    "France['Tin Size (in oz unless otherwise noted)'].median()"
   ]
  },
  {
   "cell_type": "markdown",
   "id": "9b6a7a17-8db6-431c-bdac-45208e602447",
   "metadata": {},
   "source": [
    "### 🐟 🐟 Tuna 🐟 🐟"
   ]
  },
  {
   "cell_type": "code",
   "execution_count": 218,
   "id": "303a879b-7086-4007-a334-6e6f8c797877",
   "metadata": {},
   "outputs": [],
   "source": [
    "tuna = df[df['Type of Fish'].str.contains('Tuna', na=False)]"
   ]
  },
  {
   "cell_type": "code",
   "execution_count": 219,
   "id": "9b7a2014-cde3-4072-b8f4-75f4087d02db",
   "metadata": {},
   "outputs": [
    {
     "data": {
      "text/plain": [
       "(126, 30)"
      ]
     },
     "execution_count": 219,
     "metadata": {},
     "output_type": "execute_result"
    }
   ],
   "source": [
    "# 2nd most popular fish at RTG\n",
    "\n",
    "tuna.shape"
   ]
  },
  {
   "cell_type": "code",
   "execution_count": 220,
   "id": "aa8c87d8-e4f8-4e48-9f10-d5013b9da8a2",
   "metadata": {},
   "outputs": [
    {
     "data": {
      "text/plain": [
       "Country Origin\n",
       "Spain          79\n",
       "Portugal       19\n",
       "Italy          11\n",
       "France          8\n",
       "Cape Verde      4\n",
       "El Salvador     4\n",
       "USA             1\n",
       "Name: count, dtype: int64"
      ]
     },
     "execution_count": 220,
     "metadata": {},
     "output_type": "execute_result"
    }
   ],
   "source": [
    "tuna['Country Origin'].value_counts()"
   ]
  },
  {
   "cell_type": "markdown",
   "id": "71c88cba-adee-45dc-a5bb-aab0aa58db5e",
   "metadata": {},
   "source": [
    "### 🇪🇸"
   ]
  },
  {
   "cell_type": "code",
   "execution_count": 221,
   "id": "a4d4b643-1bac-4051-be72-3b7e338f4cb0",
   "metadata": {},
   "outputs": [
    {
     "data": {
      "text/plain": [
       "20.0"
      ]
     },
     "execution_count": 221,
     "metadata": {},
     "output_type": "execute_result"
    }
   ],
   "source": [
    "Spain = tuna[tuna['Country Origin'] == 'Spain']\n",
    "Spain['RTG $'].astype(float).median()"
   ]
  },
  {
   "cell_type": "code",
   "execution_count": 222,
   "id": "66e05b6a-2da7-41ba-8da6-c1bd5185c2dc",
   "metadata": {},
   "outputs": [
    {
     "data": {
      "text/plain": [
       "Oil/Water Used\n",
       "Olive Oil                            57\n",
       "Extra Virgin Olive Oil               12\n",
       "Sunflower Oil                         7\n",
       "Olive Oil, Extra Virgin Olive Oil     1\n",
       "Extra Virgin Olive Oil, Organic       1\n",
       "Name: count, dtype: int64"
      ]
     },
     "execution_count": 222,
     "metadata": {},
     "output_type": "execute_result"
    }
   ],
   "source": [
    "Spain['Oil/Water Used'].value_counts()"
   ]
  },
  {
   "cell_type": "code",
   "execution_count": 223,
   "id": "a54ed122-ac0a-47a0-8f32-8e354cd4d63e",
   "metadata": {},
   "outputs": [
    {
     "data": {
      "text/plain": [
       "4.0"
      ]
     },
     "execution_count": 223,
     "metadata": {},
     "output_type": "execute_result"
    }
   ],
   "source": [
    "Spain['Tin Size (in oz unless otherwise noted)'].median()"
   ]
  },
  {
   "cell_type": "markdown",
   "id": "f05ae470-c978-4314-ac40-b336f9e3dfbf",
   "metadata": {},
   "source": [
    "### 🇵🇹"
   ]
  },
  {
   "cell_type": "code",
   "execution_count": 224,
   "id": "f6b354f6-d694-4a51-8413-b65abf7ff5ab",
   "metadata": {},
   "outputs": [
    {
     "data": {
      "text/plain": [
       "11.0"
      ]
     },
     "execution_count": 224,
     "metadata": {},
     "output_type": "execute_result"
    }
   ],
   "source": [
    "Portugal = tuna[tuna['Country Origin'] == 'Portugal']\n",
    "Portugal['RTG $'].astype(float).median()"
   ]
  },
  {
   "cell_type": "code",
   "execution_count": 225,
   "id": "4c4aca9c-0cc3-45c8-a74b-13c8b5229dbf",
   "metadata": {},
   "outputs": [
    {
     "data": {
      "text/plain": [
       "Oil/Water Used\n",
       "Olive Oil                          15\n",
       "Extra Virgin Olive Oil, Organic     1\n",
       "Extra Virgin Olive Oil              1\n",
       "Olive Oil, Organic                  1\n",
       "Name: count, dtype: int64"
      ]
     },
     "execution_count": 225,
     "metadata": {},
     "output_type": "execute_result"
    }
   ],
   "source": [
    "Portugal['Oil/Water Used'].value_counts()"
   ]
  },
  {
   "cell_type": "code",
   "execution_count": 226,
   "id": "bbd14400-d04d-4e2f-87ad-cbd1040d3156",
   "metadata": {},
   "outputs": [
    {
     "data": {
      "text/plain": [
       "4.2"
      ]
     },
     "execution_count": 226,
     "metadata": {},
     "output_type": "execute_result"
    }
   ],
   "source": [
    "Portugal['Tin Size (in oz unless otherwise noted)'].median()"
   ]
  },
  {
   "cell_type": "markdown",
   "id": "f2692bcf-c614-405c-ad10-8a1dabac1619",
   "metadata": {},
   "source": [
    "### 🇮🇹"
   ]
  },
  {
   "cell_type": "code",
   "execution_count": 227,
   "id": "878ad142-310c-4353-b053-f720a05884c6",
   "metadata": {},
   "outputs": [
    {
     "data": {
      "text/plain": [
       "13.0"
      ]
     },
     "execution_count": 227,
     "metadata": {},
     "output_type": "execute_result"
    }
   ],
   "source": [
    "Italy = tuna[tuna['Country Origin'] == 'Italy']\n",
    "Italy['RTG $'].astype(float).median()"
   ]
  },
  {
   "cell_type": "code",
   "execution_count": 228,
   "id": "ea1aff2c-2cfc-420a-9ad6-8dd32e19a0c5",
   "metadata": {},
   "outputs": [
    {
     "data": {
      "text/plain": [
       "Oil/Water Used\n",
       "Olive Oil        10\n",
       "Sunflower Oil     1\n",
       "Name: count, dtype: int64"
      ]
     },
     "execution_count": 228,
     "metadata": {},
     "output_type": "execute_result"
    }
   ],
   "source": [
    "Italy['Oil/Water Used'].value_counts()"
   ]
  },
  {
   "cell_type": "code",
   "execution_count": 229,
   "id": "b349e584-56d2-42af-92cf-70074bd84ace",
   "metadata": {},
   "outputs": [
    {
     "data": {
      "text/plain": [
       "6.75"
      ]
     },
     "execution_count": 229,
     "metadata": {},
     "output_type": "execute_result"
    }
   ],
   "source": [
    "Italy['Tin Size (in oz unless otherwise noted)'].median()"
   ]
  },
  {
   "cell_type": "code",
   "execution_count": null,
   "id": "8c86e662-48e3-4858-a677-0f12fcce9087",
   "metadata": {},
   "outputs": [],
   "source": []
  }
 ],
 "metadata": {
  "kernelspec": {
   "display_name": "Python 3 (ipykernel)",
   "language": "python",
   "name": "python3"
  },
  "language_info": {
   "codemirror_mode": {
    "name": "ipython",
    "version": 3
   },
   "file_extension": ".py",
   "mimetype": "text/x-python",
   "name": "python",
   "nbconvert_exporter": "python",
   "pygments_lexer": "ipython3",
   "version": "3.12.7"
  }
 },
 "nbformat": 4,
 "nbformat_minor": 5
}
